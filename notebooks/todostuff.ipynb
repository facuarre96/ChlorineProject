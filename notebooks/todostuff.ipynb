{
 "cells": [
  {
   "cell_type": "code",
   "execution_count": 5,
   "metadata": {},
   "outputs": [],
   "source": [
    "import os\n",
    "import pandas as pd"
   ]
  },
  {
   "cell_type": "code",
   "execution_count": 2,
   "metadata": {},
   "outputs": [
    {
     "name": "stdout",
     "output_type": "stream",
     "text": [
      "c:\\Users\\facua\\Master in Data Science\\Research\\ChlorineProject\\ChlorineProject\\notebooks\n"
     ]
    }
   ],
   "source": [
    "print(os.getcwd())"
   ]
  },
  {
   "cell_type": "code",
   "execution_count": 3,
   "metadata": {},
   "outputs": [
    {
     "name": "stdout",
     "output_type": "stream",
     "text": [
      "Current Directory: c:\\Users\\facua\\Master in Data Science\\Research\\ChlorineProject\\ChlorineProject\\notebooks\n",
      "Parent Directory: c:\\Users\\facua\\Master in Data Science\\Research\\ChlorineProject\\ChlorineProject\n",
      "Changed to Parent Directory: c:\\Users\\facua\\Master in Data Science\\Research\\ChlorineProject\\ChlorineProject\n"
     ]
    }
   ],
   "source": [
    "import os\n",
    "\n",
    "# Get the current working directory\n",
    "current_dir = os.getcwd()\n",
    "print(\"Current Directory:\", current_dir)\n",
    "\n",
    "# Go back one folder\n",
    "parent_dir = os.path.dirname(current_dir)\n",
    "print(\"Parent Directory:\", parent_dir)\n",
    "\n",
    "# Change the current working directory to the parent directory\n",
    "os.chdir(parent_dir)\n",
    "print(\"Changed to Parent Directory:\", os.getcwd())\n"
   ]
  },
  {
   "cell_type": "code",
   "execution_count": 18,
   "metadata": {},
   "outputs": [
    {
     "name": "stdout",
     "output_type": "stream",
     "text": [
      "chlorine_safety test\n",
      "file done\n",
      "file done\n",
      "file done\n",
      "file done\n",
      "file done\n",
      "file done\n",
      "file done\n",
      "file done\n",
      "total 8 seqlen mean 981 median 862 95th 1832 max 1853\n"
     ]
    },
    {
     "name": "stderr",
     "output_type": "stream",
     "text": [
      "C:\\Users\\facua\\AppData\\Local\\Temp\\ipykernel_45552\\2774752091.py:20: FutureWarning: Series.__getitem__ treating keys as positions is deprecated. In a future version, integer keys will always be treated as labels (consistent with DataFrame behavior). To access a value by position, use `ser.iloc[pos]`\n",
      "  id = row[0].strip()\n",
      "C:\\Users\\facua\\AppData\\Local\\Temp\\ipykernel_45552\\2774752091.py:21: FutureWarning: Series.__getitem__ treating keys as positions is deprecated. In a future version, integer keys will always be treated as labels (consistent with DataFrame behavior). To access a value by position, use `ser.iloc[pos]`\n",
      "  question = row[1].strip()\n",
      "C:\\Users\\facua\\AppData\\Local\\Temp\\ipykernel_45552\\2774752091.py:22: FutureWarning: Series.__getitem__ treating keys as positions is deprecated. In a future version, integer keys will always be treated as labels (consistent with DataFrame behavior). To access a value by position, use `ser.iloc[pos]`\n",
      "  context = row[2].strip()\n",
      "C:\\Users\\facua\\AppData\\Local\\Temp\\ipykernel_45552\\2774752091.py:23: FutureWarning: Series.__getitem__ treating keys as positions is deprecated. In a future version, integer keys will always be treated as labels (consistent with DataFrame behavior). To access a value by position, use `ser.iloc[pos]`\n",
      "  label = row[3].strip()\n"
     ]
    }
   ],
   "source": [
    "import os\n",
    "import pandas as pd\n",
    "import numpy as np\n",
    "import json\n",
    "\n",
    "def dump_jsonl(data, fpath):\n",
    "    with open(fpath, \"w\") as outf:\n",
    "        for d in data:\n",
    "            print (json.dumps(d), file=outf)\n",
    "\n",
    "\n",
    "def process_chlorine(fname):\n",
    "    dname = \"chlorine_safety\"\n",
    "    print(dname, fname)\n",
    "    file_path = f\"finetune/seqcls/raw_data/blurb/data_generation/{fname}.txt\"\n",
    "    df = pd.read_csv(file_path, sep=\"\\t\", header=0,dtype=str)\n",
    "    outs, lens = [], []\n",
    "    for _, row in df.iterrows():\n",
    "        print('file done')\n",
    "        id = row[0].strip()\n",
    "        question = row[1].strip()\n",
    "        context = row[2].strip()\n",
    "        label = row[3].strip()\n",
    "        assert label in [\"Relevant\", \"Irrelevant\"]\n",
    "        outs.append({\"id\": id, \"sentence1\": question, \"sentence2\": context, \"label\": label})\n",
    "        lens.append(len(question) + len(context))\n",
    "    print(\"total\", len(outs), \"seqlen mean\", int(np.mean(lens)), \"median\", int(np.median(lens)), \"95th\", int(np.percentile(lens, 95)), \"max\", np.max(lens))\n",
    "    #\n",
    "    root = os.getcwd()\n",
    "    os.makedirs(f\"{root}/{dname}_hf\", exist_ok=True)\n",
    "    dump_jsonl(outs, f\"{root}/{dname}_hf/{fname}.json\")\n",
    "\n",
    "process_chlorine(\"test\")\n"
   ]
  },
  {
   "cell_type": "code",
   "execution_count": 2,
   "metadata": {},
   "outputs": [
    {
     "name": "stderr",
     "output_type": "stream",
     "text": [
      "c:\\Users\\facua\\anaconda3\\envs\\chlorine\\Lib\\site-packages\\tqdm\\auto.py:21: TqdmWarning: IProgress not found. Please update jupyter and ipywidgets. See https://ipywidgets.readthedocs.io/en/stable/user_install.html\n",
      "  from .autonotebook import tqdm as notebook_tqdm\n"
     ]
    }
   ],
   "source": [
    "from transformers import pipeline"
   ]
  },
  {
   "cell_type": "code",
   "execution_count": 12,
   "metadata": {},
   "outputs": [
    {
     "name": "stderr",
     "output_type": "stream",
     "text": [
      "c:\\Users\\facua\\anaconda3\\envs\\chlorine\\Lib\\site-packages\\huggingface_hub\\file_download.py:157: UserWarning: `huggingface_hub` cache-system uses symlinks by default to efficiently store duplicated files but your machine does not support them in C:\\Users\\facua\\.cache\\huggingface\\hub\\models--distilgpt2. Caching files will still work but in a degraded version that might require more space on your disk. This warning can be disabled by setting the `HF_HUB_DISABLE_SYMLINKS_WARNING` environment variable. For more details, see https://huggingface.co/docs/huggingface_hub/how-to-cache#limitations.\n",
      "To support symlinks on Windows, you either need to activate Developer Mode or to run Python as an administrator. In order to see activate developer mode, see this article: https://docs.microsoft.com/en-us/windows/apps/get-started/enable-your-device-for-development\n",
      "  warnings.warn(message)\n"
     ]
    }
   ],
   "source": [
    "generator = pipeline('text-generation', model='distilgpt2')"
   ]
  },
  {
   "cell_type": "code",
   "execution_count": 14,
   "metadata": {},
   "outputs": [
    {
     "name": "stderr",
     "output_type": "stream",
     "text": [
      "Setting `pad_token_id` to `eos_token_id`:50256 for open-end generation.\n"
     ]
    },
    {
     "data": {
      "text/plain": [
       "[{'generated_text': 'Today I am going to teach you how to apply to your position as a candidate and also have you to explain in great detail why the right approach is'},\n",
       " {'generated_text': 'Today I am going to teach you how to develop a method to develop a method that works with you. All you need to do is create a method'}]"
      ]
     },
     "execution_count": 14,
     "metadata": {},
     "output_type": "execute_result"
    }
   ],
   "source": [
    "generator(\n",
    "    'Today I am going to teach you how to',\n",
    "    max_length=30,\n",
    "    num_return_sequences=2\n",
    ")"
   ]
  },
  {
   "cell_type": "code",
   "execution_count": null,
   "metadata": {},
   "outputs": [],
   "source": []
  }
 ],
 "metadata": {
  "kernelspec": {
   "display_name": "chlorine",
   "language": "python",
   "name": "python3"
  },
  "language_info": {
   "codemirror_mode": {
    "name": "ipython",
    "version": 3
   },
   "file_extension": ".py",
   "mimetype": "text/x-python",
   "name": "python",
   "nbconvert_exporter": "python",
   "pygments_lexer": "ipython3",
   "version": "3.12.3"
  }
 },
 "nbformat": 4,
 "nbformat_minor": 2
}
