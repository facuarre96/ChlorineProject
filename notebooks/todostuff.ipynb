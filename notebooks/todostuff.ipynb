{
 "cells": [
  {
   "cell_type": "code",
   "execution_count": 1,
   "metadata": {},
   "outputs": [],
   "source": [
    "import os\n",
    "import pandas as pd"
   ]
  },
  {
   "cell_type": "code",
   "execution_count": 2,
   "metadata": {},
   "outputs": [
    {
     "name": "stdout",
     "output_type": "stream",
     "text": [
      "c:\\Users\\facua\\Master in Data Science\\Research\\ChlorineProject\\ChlorineProject\\notebooks\n"
     ]
    }
   ],
   "source": [
    "print(os.getcwd())"
   ]
  },
  {
   "cell_type": "code",
   "execution_count": 3,
   "metadata": {},
   "outputs": [
    {
     "name": "stdout",
     "output_type": "stream",
     "text": [
      "Current Directory: c:\\Users\\facua\\Master in Data Science\\Research\\ChlorineProject\\ChlorineProject\\notebooks\n",
      "Parent Directory: c:\\Users\\facua\\Master in Data Science\\Research\\ChlorineProject\\ChlorineProject\n",
      "Changed to Parent Directory: c:\\Users\\facua\\Master in Data Science\\Research\\ChlorineProject\\ChlorineProject\n"
     ]
    }
   ],
   "source": [
    "import os\n",
    "\n",
    "# Get the current working directory\n",
    "current_dir = os.getcwd()\n",
    "print(\"Current Directory:\", current_dir)\n",
    "\n",
    "# Go back one folder\n",
    "parent_dir = os.path.dirname(current_dir)\n",
    "print(\"Parent Directory:\", parent_dir)\n",
    "\n",
    "# Change the current working directory to the parent directory\n",
    "os.chdir(parent_dir)\n",
    "print(\"Changed to Parent Directory:\", os.getcwd())\n"
   ]
  },
  {
   "cell_type": "code",
   "execution_count": 4,
   "metadata": {},
   "outputs": [
    {
     "name": "stdout",
     "output_type": "stream",
     "text": [
      "Requirement already satisfied: pandas in c:\\users\\facua\\anaconda3\\envs\\chlorine\\lib\\site-packages (from -r requirements.txt (line 1)) (2.2.2)\n",
      "Requirement already satisfied: transformers in c:\\users\\facua\\anaconda3\\envs\\chlorine\\lib\\site-packages (from -r requirements.txt (line 2)) (4.41.0)\n",
      "Requirement already satisfied: torch in c:\\users\\facua\\anaconda3\\envs\\chlorine\\lib\\site-packages (from -r requirements.txt (line 3)) (2.3.0)\n",
      "Requirement already satisfied: numpy>=1.26.0 in c:\\users\\facua\\anaconda3\\envs\\chlorine\\lib\\site-packages (from pandas->-r requirements.txt (line 1)) (1.26.4)\n",
      "Requirement already satisfied: python-dateutil>=2.8.2 in c:\\users\\facua\\anaconda3\\envs\\chlorine\\lib\\site-packages (from pandas->-r requirements.txt (line 1)) (2.9.0)\n",
      "Requirement already satisfied: pytz>=2020.1 in c:\\users\\facua\\anaconda3\\envs\\chlorine\\lib\\site-packages (from pandas->-r requirements.txt (line 1)) (2024.1)\n",
      "Requirement already satisfied: tzdata>=2022.7 in c:\\users\\facua\\anaconda3\\envs\\chlorine\\lib\\site-packages (from pandas->-r requirements.txt (line 1)) (2024.1)\n",
      "Requirement already satisfied: filelock in c:\\users\\facua\\anaconda3\\envs\\chlorine\\lib\\site-packages (from transformers->-r requirements.txt (line 2)) (3.14.0)\n",
      "Requirement already satisfied: huggingface-hub<1.0,>=0.23.0 in c:\\users\\facua\\anaconda3\\envs\\chlorine\\lib\\site-packages (from transformers->-r requirements.txt (line 2)) (0.23.0)\n",
      "Requirement already satisfied: packaging>=20.0 in c:\\users\\facua\\anaconda3\\envs\\chlorine\\lib\\site-packages (from transformers->-r requirements.txt (line 2)) (24.0)\n",
      "Requirement already satisfied: pyyaml>=5.1 in c:\\users\\facua\\anaconda3\\envs\\chlorine\\lib\\site-packages (from transformers->-r requirements.txt (line 2)) (6.0.1)\n",
      "Requirement already satisfied: regex!=2019.12.17 in c:\\users\\facua\\anaconda3\\envs\\chlorine\\lib\\site-packages (from transformers->-r requirements.txt (line 2)) (2024.5.15)\n",
      "Requirement already satisfied: requests in c:\\users\\facua\\anaconda3\\envs\\chlorine\\lib\\site-packages (from transformers->-r requirements.txt (line 2)) (2.31.0)\n",
      "Requirement already satisfied: tokenizers<0.20,>=0.19 in c:\\users\\facua\\anaconda3\\envs\\chlorine\\lib\\site-packages (from transformers->-r requirements.txt (line 2)) (0.19.1)\n",
      "Requirement already satisfied: safetensors>=0.4.1 in c:\\users\\facua\\anaconda3\\envs\\chlorine\\lib\\site-packages (from transformers->-r requirements.txt (line 2)) (0.4.3)\n",
      "Requirement already satisfied: tqdm>=4.27 in c:\\users\\facua\\anaconda3\\envs\\chlorine\\lib\\site-packages (from transformers->-r requirements.txt (line 2)) (4.66.4)\n",
      "Requirement already satisfied: typing-extensions>=4.8.0 in c:\\users\\facua\\anaconda3\\envs\\chlorine\\lib\\site-packages (from torch->-r requirements.txt (line 3)) (4.11.0)\n",
      "Requirement already satisfied: sympy in c:\\users\\facua\\anaconda3\\envs\\chlorine\\lib\\site-packages (from torch->-r requirements.txt (line 3)) (1.12)\n",
      "Requirement already satisfied: networkx in c:\\users\\facua\\anaconda3\\envs\\chlorine\\lib\\site-packages (from torch->-r requirements.txt (line 3)) (3.3)\n",
      "Requirement already satisfied: jinja2 in c:\\users\\facua\\anaconda3\\envs\\chlorine\\lib\\site-packages (from torch->-r requirements.txt (line 3)) (3.1.4)\n",
      "Requirement already satisfied: fsspec in c:\\users\\facua\\anaconda3\\envs\\chlorine\\lib\\site-packages (from torch->-r requirements.txt (line 3)) (2024.5.0)\n",
      "Requirement already satisfied: mkl<=2021.4.0,>=2021.1.1 in c:\\users\\facua\\anaconda3\\envs\\chlorine\\lib\\site-packages (from torch->-r requirements.txt (line 3)) (2021.4.0)\n",
      "Requirement already satisfied: intel-openmp==2021.* in c:\\users\\facua\\anaconda3\\envs\\chlorine\\lib\\site-packages (from mkl<=2021.4.0,>=2021.1.1->torch->-r requirements.txt (line 3)) (2021.4.0)\n",
      "Requirement already satisfied: tbb==2021.* in c:\\users\\facua\\anaconda3\\envs\\chlorine\\lib\\site-packages (from mkl<=2021.4.0,>=2021.1.1->torch->-r requirements.txt (line 3)) (2021.12.0)\n",
      "Requirement already satisfied: six>=1.5 in c:\\users\\facua\\anaconda3\\envs\\chlorine\\lib\\site-packages (from python-dateutil>=2.8.2->pandas->-r requirements.txt (line 1)) (1.16.0)\n",
      "Requirement already satisfied: colorama in c:\\users\\facua\\anaconda3\\envs\\chlorine\\lib\\site-packages (from tqdm>=4.27->transformers->-r requirements.txt (line 2)) (0.4.6)\n",
      "Requirement already satisfied: MarkupSafe>=2.0 in c:\\users\\facua\\anaconda3\\envs\\chlorine\\lib\\site-packages (from jinja2->torch->-r requirements.txt (line 3)) (2.1.5)\n",
      "Requirement already satisfied: charset-normalizer<4,>=2 in c:\\users\\facua\\anaconda3\\envs\\chlorine\\lib\\site-packages (from requests->transformers->-r requirements.txt (line 2)) (3.3.2)\n",
      "Requirement already satisfied: idna<4,>=2.5 in c:\\users\\facua\\anaconda3\\envs\\chlorine\\lib\\site-packages (from requests->transformers->-r requirements.txt (line 2)) (3.7)\n",
      "Requirement already satisfied: urllib3<3,>=1.21.1 in c:\\users\\facua\\anaconda3\\envs\\chlorine\\lib\\site-packages (from requests->transformers->-r requirements.txt (line 2)) (2.2.1)\n",
      "Requirement already satisfied: certifi>=2017.4.17 in c:\\users\\facua\\anaconda3\\envs\\chlorine\\lib\\site-packages (from requests->transformers->-r requirements.txt (line 2)) (2024.2.2)\n",
      "Requirement already satisfied: mpmath>=0.19 in c:\\users\\facua\\anaconda3\\envs\\chlorine\\lib\\site-packages (from sympy->torch->-r requirements.txt (line 3)) (1.3.0)\n"
     ]
    }
   ],
   "source": [
    "!pip install -r requirements.txt"
   ]
  },
  {
   "cell_type": "code",
   "execution_count": 5,
   "metadata": {},
   "outputs": [
    {
     "name": "stdout",
     "output_type": "stream",
     "text": [
      "Collecting datasets\n",
      "  Downloading datasets-2.20.0-py3-none-any.whl.metadata (19 kB)\n",
      "Requirement already satisfied: filelock in c:\\users\\facua\\anaconda3\\envs\\chlorine\\lib\\site-packages (from datasets) (3.14.0)\n",
      "Requirement already satisfied: numpy>=1.17 in c:\\users\\facua\\anaconda3\\envs\\chlorine\\lib\\site-packages (from datasets) (1.26.4)\n",
      "Collecting pyarrow>=15.0.0 (from datasets)\n",
      "  Downloading pyarrow-16.1.0-cp312-cp312-win_amd64.whl.metadata (3.1 kB)\n",
      "Collecting pyarrow-hotfix (from datasets)\n",
      "  Downloading pyarrow_hotfix-0.6-py3-none-any.whl.metadata (3.6 kB)\n",
      "Collecting dill<0.3.9,>=0.3.0 (from datasets)\n",
      "  Downloading dill-0.3.8-py3-none-any.whl.metadata (10 kB)\n",
      "Requirement already satisfied: pandas in c:\\users\\facua\\anaconda3\\envs\\chlorine\\lib\\site-packages (from datasets) (2.2.2)\n",
      "Collecting requests>=2.32.2 (from datasets)\n",
      "  Downloading requests-2.32.3-py3-none-any.whl.metadata (4.6 kB)\n",
      "Requirement already satisfied: tqdm>=4.66.3 in c:\\users\\facua\\anaconda3\\envs\\chlorine\\lib\\site-packages (from datasets) (4.66.4)\n",
      "Collecting xxhash (from datasets)\n",
      "  Downloading xxhash-3.4.1-cp312-cp312-win_amd64.whl.metadata (12 kB)\n",
      "Collecting multiprocess (from datasets)\n",
      "  Downloading multiprocess-0.70.16-py312-none-any.whl.metadata (7.2 kB)\n",
      "Requirement already satisfied: fsspec<=2024.5.0,>=2023.1.0 in c:\\users\\facua\\anaconda3\\envs\\chlorine\\lib\\site-packages (from fsspec[http]<=2024.5.0,>=2023.1.0->datasets) (2024.5.0)\n",
      "Collecting aiohttp (from datasets)\n",
      "  Downloading aiohttp-3.9.5-cp312-cp312-win_amd64.whl.metadata (7.7 kB)\n",
      "Requirement already satisfied: huggingface-hub>=0.21.2 in c:\\users\\facua\\anaconda3\\envs\\chlorine\\lib\\site-packages (from datasets) (0.23.0)\n",
      "Requirement already satisfied: packaging in c:\\users\\facua\\anaconda3\\envs\\chlorine\\lib\\site-packages (from datasets) (24.0)\n",
      "Requirement already satisfied: pyyaml>=5.1 in c:\\users\\facua\\anaconda3\\envs\\chlorine\\lib\\site-packages (from datasets) (6.0.1)\n",
      "Collecting aiosignal>=1.1.2 (from aiohttp->datasets)\n",
      "  Downloading aiosignal-1.3.1-py3-none-any.whl.metadata (4.0 kB)\n",
      "Requirement already satisfied: attrs>=17.3.0 in c:\\users\\facua\\anaconda3\\envs\\chlorine\\lib\\site-packages (from aiohttp->datasets) (23.2.0)\n",
      "Collecting frozenlist>=1.1.1 (from aiohttp->datasets)\n",
      "  Downloading frozenlist-1.4.1-cp312-cp312-win_amd64.whl.metadata (12 kB)\n",
      "Collecting multidict<7.0,>=4.5 (from aiohttp->datasets)\n",
      "  Downloading multidict-6.0.5-cp312-cp312-win_amd64.whl.metadata (4.3 kB)\n",
      "Collecting yarl<2.0,>=1.0 (from aiohttp->datasets)\n",
      "  Downloading yarl-1.9.4-cp312-cp312-win_amd64.whl.metadata (32 kB)\n",
      "Requirement already satisfied: typing-extensions>=3.7.4.3 in c:\\users\\facua\\anaconda3\\envs\\chlorine\\lib\\site-packages (from huggingface-hub>=0.21.2->datasets) (4.11.0)\n",
      "Requirement already satisfied: charset-normalizer<4,>=2 in c:\\users\\facua\\anaconda3\\envs\\chlorine\\lib\\site-packages (from requests>=2.32.2->datasets) (3.3.2)\n",
      "Requirement already satisfied: idna<4,>=2.5 in c:\\users\\facua\\anaconda3\\envs\\chlorine\\lib\\site-packages (from requests>=2.32.2->datasets) (3.7)\n",
      "Requirement already satisfied: urllib3<3,>=1.21.1 in c:\\users\\facua\\anaconda3\\envs\\chlorine\\lib\\site-packages (from requests>=2.32.2->datasets) (2.2.1)\n",
      "Requirement already satisfied: certifi>=2017.4.17 in c:\\users\\facua\\anaconda3\\envs\\chlorine\\lib\\site-packages (from requests>=2.32.2->datasets) (2024.2.2)\n",
      "Requirement already satisfied: colorama in c:\\users\\facua\\anaconda3\\envs\\chlorine\\lib\\site-packages (from tqdm>=4.66.3->datasets) (0.4.6)\n",
      "Requirement already satisfied: python-dateutil>=2.8.2 in c:\\users\\facua\\anaconda3\\envs\\chlorine\\lib\\site-packages (from pandas->datasets) (2.9.0)\n",
      "Requirement already satisfied: pytz>=2020.1 in c:\\users\\facua\\anaconda3\\envs\\chlorine\\lib\\site-packages (from pandas->datasets) (2024.1)\n",
      "Requirement already satisfied: tzdata>=2022.7 in c:\\users\\facua\\anaconda3\\envs\\chlorine\\lib\\site-packages (from pandas->datasets) (2024.1)\n",
      "Requirement already satisfied: six>=1.5 in c:\\users\\facua\\anaconda3\\envs\\chlorine\\lib\\site-packages (from python-dateutil>=2.8.2->pandas->datasets) (1.16.0)\n",
      "Downloading datasets-2.20.0-py3-none-any.whl (547 kB)\n",
      "   ---------------------------------------- 0.0/547.8 kB ? eta -:--:--\n",
      "   --------------------------------------  542.7/547.8 kB 17.2 MB/s eta 0:00:01\n",
      "   --------------------------------------- 547.8/547.8 kB 11.4 MB/s eta 0:00:00\n",
      "Downloading dill-0.3.8-py3-none-any.whl (116 kB)\n",
      "   ---------------------------------------- 0.0/116.3 kB ? eta -:--:--\n",
      "   ---------------------------------------- 116.3/116.3 kB ? eta 0:00:00\n",
      "Downloading aiohttp-3.9.5-cp312-cp312-win_amd64.whl (369 kB)\n",
      "   ---------------------------------------- 0.0/369.0 kB ? eta -:--:--\n",
      "   --------------------------------------- 369.0/369.0 kB 23.9 MB/s eta 0:00:00\n",
      "Downloading pyarrow-16.1.0-cp312-cp312-win_amd64.whl (25.8 MB)\n",
      "   ---------------------------------------- 0.0/25.8 MB ? eta -:--:--\n",
      "   - -------------------------------------- 0.8/25.8 MB 26.4 MB/s eta 0:00:01\n",
      "   -- ------------------------------------- 1.6/25.8 MB 20.5 MB/s eta 0:00:02\n",
      "   --- ------------------------------------ 2.5/25.8 MB 20.3 MB/s eta 0:00:02\n",
      "   ----- ---------------------------------- 3.3/25.8 MB 19.0 MB/s eta 0:00:02\n",
      "   ------ --------------------------------- 4.1/25.8 MB 18.8 MB/s eta 0:00:02\n",
      "   ------- -------------------------------- 5.1/25.8 MB 20.3 MB/s eta 0:00:02\n",
      "   -------- ------------------------------- 5.7/25.8 MB 19.2 MB/s eta 0:00:02\n",
      "   ---------- ----------------------------- 6.7/25.8 MB 19.5 MB/s eta 0:00:01\n",
      "   ----------- ---------------------------- 7.4/25.8 MB 19.6 MB/s eta 0:00:01\n",
      "   ------------ --------------------------- 8.4/25.8 MB 19.8 MB/s eta 0:00:01\n",
      "   -------------- ------------------------- 9.3/25.8 MB 19.8 MB/s eta 0:00:01\n",
      "   ---------------- ----------------------- 10.4/25.8 MB 19.3 MB/s eta 0:00:01\n",
      "   ----------------- ---------------------- 11.3/25.8 MB 19.3 MB/s eta 0:00:01\n",
      "   ------------------ --------------------- 12.2/25.8 MB 19.3 MB/s eta 0:00:01\n",
      "   -------------------- ------------------- 13.0/25.8 MB 19.9 MB/s eta 0:00:01\n",
      "   --------------------- ------------------ 13.9/25.8 MB 19.8 MB/s eta 0:00:01\n",
      "   ----------------------- ---------------- 14.9/25.8 MB 19.2 MB/s eta 0:00:01\n",
      "   ------------------------ --------------- 15.8/25.8 MB 19.9 MB/s eta 0:00:01\n",
      "   ------------------------- -------------- 16.5/25.8 MB 19.8 MB/s eta 0:00:01\n",
      "   -------------------------- ------------- 17.4/25.8 MB 19.8 MB/s eta 0:00:01\n",
      "   ---------------------------- ----------- 18.4/25.8 MB 19.9 MB/s eta 0:00:01\n",
      "   ------------------------------ --------- 19.4/25.8 MB 19.9 MB/s eta 0:00:01\n",
      "   ------------------------------- -------- 20.2/25.8 MB 19.9 MB/s eta 0:00:01\n",
      "   -------------------------------- ------- 21.2/25.8 MB 19.3 MB/s eta 0:00:01\n",
      "   ---------------------------------- ----- 22.2/25.8 MB 20.5 MB/s eta 0:00:01\n",
      "   ----------------------------------- ---- 23.2/25.8 MB 19.3 MB/s eta 0:00:01\n",
      "   ------------------------------------- -- 24.1/25.8 MB 19.8 MB/s eta 0:00:01\n",
      "   -------------------------------------- - 24.9/25.8 MB 19.8 MB/s eta 0:00:01\n",
      "   ---------------------------------------  25.8/25.8 MB 19.9 MB/s eta 0:00:01\n",
      "   ---------------------------------------  25.8/25.8 MB 19.9 MB/s eta 0:00:01\n",
      "   ---------------------------------------- 25.8/25.8 MB 17.7 MB/s eta 0:00:00\n",
      "Downloading requests-2.32.3-py3-none-any.whl (64 kB)\n",
      "   ---------------------------------------- 0.0/64.9 kB ? eta -:--:--\n",
      "   ---------------------------------------- 64.9/64.9 kB 3.4 MB/s eta 0:00:00\n",
      "Downloading multiprocess-0.70.16-py312-none-any.whl (146 kB)\n",
      "   ---------------------------------------- 0.0/146.7 kB ? eta -:--:--\n",
      "   ---------------------------------------- 146.7/146.7 kB 8.5 MB/s eta 0:00:00\n",
      "Downloading pyarrow_hotfix-0.6-py3-none-any.whl (7.9 kB)\n",
      "Downloading xxhash-3.4.1-cp312-cp312-win_amd64.whl (29 kB)\n",
      "Downloading aiosignal-1.3.1-py3-none-any.whl (7.6 kB)\n",
      "Downloading frozenlist-1.4.1-cp312-cp312-win_amd64.whl (50 kB)\n",
      "   ---------------------------------------- 0.0/50.5 kB ? eta -:--:--\n",
      "   ---------------------------------------- 50.5/50.5 kB 1.3 MB/s eta 0:00:00\n",
      "Downloading multidict-6.0.5-cp312-cp312-win_amd64.whl (27 kB)\n",
      "Downloading yarl-1.9.4-cp312-cp312-win_amd64.whl (76 kB)\n",
      "   ---------------------------------------- 0.0/76.4 kB ? eta -:--:--\n",
      "   ---------------------------------------- 76.4/76.4 kB 4.1 MB/s eta 0:00:00\n",
      "Installing collected packages: xxhash, requests, pyarrow-hotfix, pyarrow, multidict, frozenlist, dill, yarl, multiprocess, aiosignal, aiohttp, datasets\n",
      "  Attempting uninstall: requests\n",
      "    Found existing installation: requests 2.31.0\n",
      "    Uninstalling requests-2.31.0:\n",
      "      Successfully uninstalled requests-2.31.0\n",
      "Successfully installed aiohttp-3.9.5 aiosignal-1.3.1 datasets-2.20.0 dill-0.3.8 frozenlist-1.4.1 multidict-6.0.5 multiprocess-0.70.16 pyarrow-16.1.0 pyarrow-hotfix-0.6 requests-2.32.3 xxhash-3.4.1 yarl-1.9.4\n"
     ]
    }
   ],
   "source": [
    "!pip install datasets"
   ]
  },
  {
   "cell_type": "code",
   "execution_count": 6,
   "metadata": {},
   "outputs": [
    {
     "name": "stdout",
     "output_type": "stream",
     "text": [
      "Collecting accelerate\n",
      "  Downloading accelerate-0.31.0-py3-none-any.whl.metadata (19 kB)\n",
      "Requirement already satisfied: numpy>=1.17 in c:\\users\\facua\\anaconda3\\envs\\chlorine\\lib\\site-packages (from accelerate) (1.26.4)\n",
      "Requirement already satisfied: packaging>=20.0 in c:\\users\\facua\\anaconda3\\envs\\chlorine\\lib\\site-packages (from accelerate) (24.0)\n",
      "Requirement already satisfied: psutil in c:\\users\\facua\\anaconda3\\envs\\chlorine\\lib\\site-packages (from accelerate) (5.9.0)\n",
      "Requirement already satisfied: pyyaml in c:\\users\\facua\\anaconda3\\envs\\chlorine\\lib\\site-packages (from accelerate) (6.0.1)\n",
      "Requirement already satisfied: torch>=1.10.0 in c:\\users\\facua\\anaconda3\\envs\\chlorine\\lib\\site-packages (from accelerate) (2.3.0)\n",
      "Requirement already satisfied: huggingface-hub in c:\\users\\facua\\anaconda3\\envs\\chlorine\\lib\\site-packages (from accelerate) (0.23.0)\n",
      "Requirement already satisfied: safetensors>=0.3.1 in c:\\users\\facua\\anaconda3\\envs\\chlorine\\lib\\site-packages (from accelerate) (0.4.3)\n",
      "Requirement already satisfied: filelock in c:\\users\\facua\\anaconda3\\envs\\chlorine\\lib\\site-packages (from torch>=1.10.0->accelerate) (3.14.0)\n",
      "Requirement already satisfied: typing-extensions>=4.8.0 in c:\\users\\facua\\anaconda3\\envs\\chlorine\\lib\\site-packages (from torch>=1.10.0->accelerate) (4.11.0)\n",
      "Requirement already satisfied: sympy in c:\\users\\facua\\anaconda3\\envs\\chlorine\\lib\\site-packages (from torch>=1.10.0->accelerate) (1.12)\n",
      "Requirement already satisfied: networkx in c:\\users\\facua\\anaconda3\\envs\\chlorine\\lib\\site-packages (from torch>=1.10.0->accelerate) (3.3)\n",
      "Requirement already satisfied: jinja2 in c:\\users\\facua\\anaconda3\\envs\\chlorine\\lib\\site-packages (from torch>=1.10.0->accelerate) (3.1.4)\n",
      "Requirement already satisfied: fsspec in c:\\users\\facua\\anaconda3\\envs\\chlorine\\lib\\site-packages (from torch>=1.10.0->accelerate) (2024.5.0)\n",
      "Requirement already satisfied: mkl<=2021.4.0,>=2021.1.1 in c:\\users\\facua\\anaconda3\\envs\\chlorine\\lib\\site-packages (from torch>=1.10.0->accelerate) (2021.4.0)\n",
      "Requirement already satisfied: requests in c:\\users\\facua\\anaconda3\\envs\\chlorine\\lib\\site-packages (from huggingface-hub->accelerate) (2.32.3)\n",
      "Requirement already satisfied: tqdm>=4.42.1 in c:\\users\\facua\\anaconda3\\envs\\chlorine\\lib\\site-packages (from huggingface-hub->accelerate) (4.66.4)\n",
      "Requirement already satisfied: intel-openmp==2021.* in c:\\users\\facua\\anaconda3\\envs\\chlorine\\lib\\site-packages (from mkl<=2021.4.0,>=2021.1.1->torch>=1.10.0->accelerate) (2021.4.0)\n",
      "Requirement already satisfied: tbb==2021.* in c:\\users\\facua\\anaconda3\\envs\\chlorine\\lib\\site-packages (from mkl<=2021.4.0,>=2021.1.1->torch>=1.10.0->accelerate) (2021.12.0)\n",
      "Requirement already satisfied: colorama in c:\\users\\facua\\anaconda3\\envs\\chlorine\\lib\\site-packages (from tqdm>=4.42.1->huggingface-hub->accelerate) (0.4.6)\n",
      "Requirement already satisfied: MarkupSafe>=2.0 in c:\\users\\facua\\anaconda3\\envs\\chlorine\\lib\\site-packages (from jinja2->torch>=1.10.0->accelerate) (2.1.5)\n",
      "Requirement already satisfied: charset-normalizer<4,>=2 in c:\\users\\facua\\anaconda3\\envs\\chlorine\\lib\\site-packages (from requests->huggingface-hub->accelerate) (3.3.2)\n",
      "Requirement already satisfied: idna<4,>=2.5 in c:\\users\\facua\\anaconda3\\envs\\chlorine\\lib\\site-packages (from requests->huggingface-hub->accelerate) (3.7)\n",
      "Requirement already satisfied: urllib3<3,>=1.21.1 in c:\\users\\facua\\anaconda3\\envs\\chlorine\\lib\\site-packages (from requests->huggingface-hub->accelerate) (2.2.1)\n",
      "Requirement already satisfied: certifi>=2017.4.17 in c:\\users\\facua\\anaconda3\\envs\\chlorine\\lib\\site-packages (from requests->huggingface-hub->accelerate) (2024.2.2)\n",
      "Requirement already satisfied: mpmath>=0.19 in c:\\users\\facua\\anaconda3\\envs\\chlorine\\lib\\site-packages (from sympy->torch>=1.10.0->accelerate) (1.3.0)\n",
      "Downloading accelerate-0.31.0-py3-none-any.whl (309 kB)\n",
      "   ---------------------------------------- 0.0/309.4 kB ? eta -:--:--\n",
      "   - -------------------------------------- 10.2/309.4 kB ? eta -:--:--\n",
      "   --------------- ------------------------ 122.9/309.4 kB 1.8 MB/s eta 0:00:01\n",
      "   ---------------------------------------- 309.4/309.4 kB 3.2 MB/s eta 0:00:00\n",
      "Installing collected packages: accelerate\n",
      "Successfully installed accelerate-0.31.0\n"
     ]
    }
   ],
   "source": [
    "!pip install accelerate -U"
   ]
  },
  {
   "cell_type": "code",
   "execution_count": 26,
   "metadata": {},
   "outputs": [
    {
     "name": "stdout",
     "output_type": "stream",
     "text": [
      "^C\n"
     ]
    }
   ],
   "source": [
    "!python finetune/papercls/run_papercls_gpt.py finetune/papercls/config.json"
   ]
  },
  {
   "cell_type": "code",
   "execution_count": null,
   "metadata": {},
   "outputs": [],
   "source": []
  }
 ],
 "metadata": {
  "kernelspec": {
   "display_name": "chlorine",
   "language": "python",
   "name": "python3"
  },
  "language_info": {
   "codemirror_mode": {
    "name": "ipython",
    "version": 3
   },
   "file_extension": ".py",
   "mimetype": "text/x-python",
   "name": "python",
   "nbconvert_exporter": "python",
   "pygments_lexer": "ipython3",
   "version": "3.12.3"
  }
 },
 "nbformat": 4,
 "nbformat_minor": 2
}
